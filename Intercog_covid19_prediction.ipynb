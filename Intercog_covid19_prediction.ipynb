{
 "cells": [
  {
   "cell_type": "markdown",
   "metadata": {
    "toc": true
   },
   "source": [
    "<h1>Table of Contents<span class=\"tocSkip\"></span></h1>\n",
    "<div class=\"toc\"><ul class=\"toc-item\"><li><span><a href=\"#Random-forest-approach-on-COVID-19-dataset\" data-toc-modified-id=\"Random-forest-approach-on-COVID-19-dataset-1\"><span class=\"toc-item-num\">1&nbsp;&nbsp;</span>Random forest approach on COVID 19 dataset</a></span></li><li><span><a href=\"#Explanation-video-is-available-on-youtube\" data-toc-modified-id=\"Explanation-video-is-available-on-youtube-2\"><span class=\"toc-item-num\">2&nbsp;&nbsp;</span>Explanation video is available on youtube</a></span></li><li><span><a href=\"#Acknowledgements-for-Data-used\" data-toc-modified-id=\"Acknowledgements-for-Data-used-3\"><span class=\"toc-item-num\">3&nbsp;&nbsp;</span>Acknowledgements for Data used</a></span></li><li><span><a href=\"#Installation-and-importing-of-required-packages/-libraries\" data-toc-modified-id=\"Installation-and-importing-of-required-packages/-libraries-4\"><span class=\"toc-item-num\">4&nbsp;&nbsp;</span>Installation and importing of required packages/ libraries</a></span></li><li><span><a href=\"#Load-data-stored-in-a-location\" data-toc-modified-id=\"Load-data-stored-in-a-location-5\"><span class=\"toc-item-num\">5&nbsp;&nbsp;</span>Load data stored in a location</a></span></li><li><span><a href=\"#Converting-the-data-to-a-format-ready-for-the-machine-learning-steps\" data-toc-modified-id=\"Converting-the-data-to-a-format-ready-for-the-machine-learning-steps-6\"><span class=\"toc-item-num\">6&nbsp;&nbsp;</span>Converting the data to a format ready for the machine learning steps</a></span></li><li><span><a href=\"#drop-columns-to-select-a-state-of-your-interest.\" data-toc-modified-id=\"drop-columns-to-select-a-state-of-your-interest.-7\"><span class=\"toc-item-num\">7&nbsp;&nbsp;</span>drop columns to select a state of your interest.</a></span></li><li><span><a href=\"#Arrange-columns-in-the-order-of-date,-confirmed,-deceased-and-recovered.\" data-toc-modified-id=\"Arrange-columns-in-the-order-of-date,-confirmed,-deceased-and-recovered.-8\"><span class=\"toc-item-num\">8&nbsp;&nbsp;</span>Arrange columns in the order of date, confirmed, deceased and recovered.</a></span></li><li><span><a href=\"#Generate-profile-reports-for-a-quick-review-of-the--data-set\" data-toc-modified-id=\"Generate-profile-reports-for-a-quick-review-of-the--data-set-9\"><span class=\"toc-item-num\">9&nbsp;&nbsp;</span>Generate profile reports for a quick review of the  data set</a></span></li><li><span><a href=\"#Generate-feature-and-target-variables\" data-toc-modified-id=\"Generate-feature-and-target-variables-10\"><span class=\"toc-item-num\">10&nbsp;&nbsp;</span>Generate feature and target variables</a></span></li><li><span><a href=\"#Splitting-of-data-to-train-and-test-vectors\" data-toc-modified-id=\"Splitting-of-data-to-train-and-test-vectors-11\"><span class=\"toc-item-num\">11&nbsp;&nbsp;</span>Splitting of data to train and test vectors</a></span></li><li><span><a href=\"#Initialize-random-forest-classifiers-.-Training-and-prediction-on-test-samples.\" data-toc-modified-id=\"Initialize-random-forest-classifiers-.-Training-and-prediction-on-test-samples.-12\"><span class=\"toc-item-num\">12&nbsp;&nbsp;</span>Initialize random forest classifiers . Training and prediction on test samples.</a></span></li><li><span><a href=\"#Hyperparameter-tuning-with-Random-Serch-CV-method\" data-toc-modified-id=\"Hyperparameter-tuning-with-Random-Serch-CV-method-13\"><span class=\"toc-item-num\">13&nbsp;&nbsp;</span>Hyperparameter tuning with Random Serch CV method</a></span></li><li><span><a href=\"#Plotting-of-results-and-comparison-of-results-obtained-with-different-RF-approaches\" data-toc-modified-id=\"Plotting-of-results-and-comparison-of-results-obtained-with-different-RF-approaches-14\"><span class=\"toc-item-num\">14&nbsp;&nbsp;</span>Plotting of results and comparison of results obtained with different RF approaches</a></span></li><li><span><a href=\"#Visualization-of-Results\" data-toc-modified-id=\"Visualization-of-Results-15\"><span class=\"toc-item-num\">15&nbsp;&nbsp;</span>Visualization of Results</a></span></li><li><span><a href=\"#Conclusion\" data-toc-modified-id=\"Conclusion-16\"><span class=\"toc-item-num\">16&nbsp;&nbsp;</span>Conclusion</a></span></li></ul></div>"
   ]
  },
  {
   "cell_type": "markdown",
   "metadata": {},
   "source": [
    "# Random forest approach on COVID 19 dataset\n",
    "This notebook (open in Jupyer notebook in python 3) gives you a basic understanding on\n",
    "- How to read COVID dataset from https://www.covid19india.org/ web page\n",
    "- Convert the data base available to a form suited for applying machine learning techniques\n",
    "- How Random Forest approach can be employed on the dataset and a comparison of performance based on variants of random forest approaches including Random Search CV\n",
    "- Comparison based on Performance measures \n",
    "\n",
    "# Explanation video is available on youtube \n",
    "\n",
    "https://www.youtube.com/channel/UCP35aGSzN43U5TgiE8qPg7g\n",
    "\n",
    "\n",
    "![Intercog - Youtube channel Subscrice and share for more videos](together_logo.png)\n",
    "\n",
    "                            Intercog - Subscribe and share the Channel for more videos\n",
    "\n",
    "\n",
    "# Acknowledgements for Data used \n",
    "\n",
    "@misc{covid19indiaorg2020tracker,\n",
    "  author = {COVID-19 India Org Data Operations Group},\n",
    "  title = ,\n",
    "  howpublished = {Accessed on 2020-11-13 from \\url{https://api.covid19india.org/}},\n",
    "  year = 2020\n",
    "}\n",
    "\n",
    "\n",
    "web link for data https://api.covid19india.org/csv/latest/state_wise_daily.csv\n",
    "\n",
    "# Installation and importing of required packages/ libraries"
   ]
  },
  {
   "cell_type": "code",
   "execution_count": 1,
   "metadata": {},
   "outputs": [
    {
     "name": "stdout",
     "output_type": "stream",
     "text": [
      "Requirement already satisfied: sweetviz in c:\\programdata\\anaconda3\\lib\\site-packages (1.1.1)\n",
      "Requirement already satisfied: numpy>=1.16.0 in c:\\programdata\\anaconda3\\lib\\site-packages (from sweetviz) (1.18.5)\n",
      "Requirement already satisfied: pandas!=1.0.0,!=1.0.1,!=1.0.2,>=0.25.3 in c:\\programdata\\anaconda3\\lib\\site-packages (from sweetviz) (1.0.5)\n",
      "Requirement already satisfied: scipy>=1.3.2 in c:\\programdata\\anaconda3\\lib\\site-packages (from sweetviz) (1.5.0)\n",
      "Requirement already satisfied: importlib-resources>=1.2.0 in c:\\programdata\\anaconda3\\lib\\site-packages (from sweetviz) (3.2.0)\n",
      "Requirement already satisfied: tqdm>=4.43.0 in c:\\programdata\\anaconda3\\lib\\site-packages (from sweetviz) (4.47.0)\n",
      "Requirement already satisfied: jinja2>=2.11.1 in c:\\programdata\\anaconda3\\lib\\site-packages (from sweetviz) (2.11.2)\n",
      "Requirement already satisfied: matplotlib>=3.1.3 in c:\\programdata\\anaconda3\\lib\\site-packages (from sweetviz) (3.2.2)\n",
      "Requirement already satisfied: pytz>=2017.2 in c:\\programdata\\anaconda3\\lib\\site-packages (from pandas!=1.0.0,!=1.0.1,!=1.0.2,>=0.25.3->sweetviz) (2020.1)\n",
      "Requirement already satisfied: python-dateutil>=2.6.1 in c:\\programdata\\anaconda3\\lib\\site-packages (from pandas!=1.0.0,!=1.0.1,!=1.0.2,>=0.25.3->sweetviz) (2.8.1)\n",
      "Requirement already satisfied: MarkupSafe>=0.23 in c:\\programdata\\anaconda3\\lib\\site-packages (from jinja2>=2.11.1->sweetviz) (1.1.1)\n",
      "Requirement already satisfied: cycler>=0.10 in c:\\programdata\\anaconda3\\lib\\site-packages (from matplotlib>=3.1.3->sweetviz) (0.10.0)\n",
      "Requirement already satisfied: kiwisolver>=1.0.1 in c:\\programdata\\anaconda3\\lib\\site-packages (from matplotlib>=3.1.3->sweetviz) (1.2.0)\n",
      "Requirement already satisfied: pyparsing!=2.0.4,!=2.1.2,!=2.1.6,>=2.0.1 in c:\\programdata\\anaconda3\\lib\\site-packages (from matplotlib>=3.1.3->sweetviz) (2.4.7)\n",
      "Requirement already satisfied: six>=1.5 in c:\\programdata\\anaconda3\\lib\\site-packages (from python-dateutil>=2.6.1->pandas!=1.0.0,!=1.0.1,!=1.0.2,>=0.25.3->sweetviz) (1.15.0)\n",
      "Requirement already satisfied: dask in c:\\programdata\\anaconda3\\lib\\site-packages (2.20.0)\n",
      "Requirement already satisfied: pyyaml in c:\\programdata\\anaconda3\\lib\\site-packages (from dask) (5.3.1)\n",
      "Requirement already satisfied: scikit-learn in c:\\programdata\\anaconda3\\lib\\site-packages (0.23.1)\n",
      "Requirement already satisfied: joblib>=0.11 in c:\\programdata\\anaconda3\\lib\\site-packages (from scikit-learn) (0.16.0)\n",
      "Requirement already satisfied: scipy>=0.19.1 in c:\\programdata\\anaconda3\\lib\\site-packages (from scikit-learn) (1.5.0)\n",
      "Requirement already satisfied: threadpoolctl>=2.0.0 in c:\\programdata\\anaconda3\\lib\\site-packages (from scikit-learn) (2.1.0)\n",
      "Requirement already satisfied: numpy>=1.13.3 in c:\\programdata\\anaconda3\\lib\\site-packages (from scikit-learn) (1.18.5)\n",
      "Requirement already satisfied: pandas_profiling in c:\\programdata\\anaconda3\\lib\\site-packages (2.9.0)\n",
      "Requirement already satisfied: tangled-up-in-unicode>=0.0.6 in c:\\programdata\\anaconda3\\lib\\site-packages (from pandas_profiling) (0.0.6)\n",
      "Requirement already satisfied: confuse>=1.0.0 in c:\\programdata\\anaconda3\\lib\\site-packages (from pandas_profiling) (1.3.0)\n",
      "Requirement already satisfied: phik>=0.9.10 in c:\\programdata\\anaconda3\\lib\\site-packages (from pandas_profiling) (0.10.0)\n",
      "Requirement already satisfied: missingno>=0.4.2 in c:\\programdata\\anaconda3\\lib\\site-packages (from pandas_profiling) (0.4.2)\n",
      "Requirement already satisfied: ipywidgets>=7.5.1 in c:\\programdata\\anaconda3\\lib\\site-packages (from pandas_profiling) (7.5.1)\n",
      "Requirement already satisfied: htmlmin>=0.1.12 in c:\\programdata\\anaconda3\\lib\\site-packages (from pandas_profiling) (0.1.12)\n",
      "Requirement already satisfied: requests>=2.23.0 in c:\\programdata\\anaconda3\\lib\\site-packages (from pandas_profiling) (2.24.0)\n",
      "Requirement already satisfied: visions[type_image_path]==0.5.0 in c:\\programdata\\anaconda3\\lib\\site-packages (from pandas_profiling) (0.5.0)\n",
      "Requirement already satisfied: tqdm>=4.43.0 in c:\\programdata\\anaconda3\\lib\\site-packages (from pandas_profiling) (4.47.0)\n",
      "Requirement already satisfied: scipy>=1.4.1 in c:\\programdata\\anaconda3\\lib\\site-packages (from pandas_profiling) (1.5.0)\n",
      "Requirement already satisfied: seaborn>=0.10.1 in c:\\programdata\\anaconda3\\lib\\site-packages (from pandas_profiling) (0.10.1)\n",
      "Requirement already satisfied: matplotlib>=3.2.0 in c:\\programdata\\anaconda3\\lib\\site-packages (from pandas_profiling) (3.2.2)\n",
      "Requirement already satisfied: joblib in c:\\programdata\\anaconda3\\lib\\site-packages (from pandas_profiling) (0.16.0)\n",
      "Requirement already satisfied: jinja2>=2.11.1 in c:\\programdata\\anaconda3\\lib\\site-packages (from pandas_profiling) (2.11.2)\n",
      "Requirement already satisfied: numpy>=1.16.0 in c:\\programdata\\anaconda3\\lib\\site-packages (from pandas_profiling) (1.18.5)\n",
      "Requirement already satisfied: attrs>=19.3.0 in c:\\programdata\\anaconda3\\lib\\site-packages (from pandas_profiling) (19.3.0)\n",
      "Requirement already satisfied: pandas!=1.0.0,!=1.0.1,!=1.0.2,!=1.1.0,>=0.25.3 in c:\\programdata\\anaconda3\\lib\\site-packages (from pandas_profiling) (1.0.5)\n",
      "Requirement already satisfied: pyyaml in c:\\programdata\\anaconda3\\lib\\site-packages (from confuse>=1.0.0->pandas_profiling) (5.3.1)\n",
      "Requirement already satisfied: numba>=0.38.1 in c:\\programdata\\anaconda3\\lib\\site-packages (from phik>=0.9.10->pandas_profiling) (0.50.1)\n",
      "Requirement already satisfied: nbformat>=4.2.0 in c:\\programdata\\anaconda3\\lib\\site-packages (from ipywidgets>=7.5.1->pandas_profiling) (5.0.7)\n",
      "Requirement already satisfied: traitlets>=4.3.1 in c:\\programdata\\anaconda3\\lib\\site-packages (from ipywidgets>=7.5.1->pandas_profiling) (4.3.3)\n",
      "Requirement already satisfied: ipython>=4.0.0; python_version >= \"3.3\" in c:\\programdata\\anaconda3\\lib\\site-packages (from ipywidgets>=7.5.1->pandas_profiling) (7.16.1)\n",
      "Requirement already satisfied: widgetsnbextension~=3.5.0 in c:\\programdata\\anaconda3\\lib\\site-packages (from ipywidgets>=7.5.1->pandas_profiling) (3.5.1)\n",
      "Requirement already satisfied: ipykernel>=4.5.1 in c:\\programdata\\anaconda3\\lib\\site-packages (from ipywidgets>=7.5.1->pandas_profiling) (5.3.2)\n",
      "Requirement already satisfied: idna<3,>=2.5 in c:\\programdata\\anaconda3\\lib\\site-packages (from requests>=2.23.0->pandas_profiling) (2.10)\n",
      "Requirement already satisfied: certifi>=2017.4.17 in c:\\programdata\\anaconda3\\lib\\site-packages (from requests>=2.23.0->pandas_profiling) (2020.6.20)\n",
      "Requirement already satisfied: chardet<4,>=3.0.2 in c:\\programdata\\anaconda3\\lib\\site-packages (from requests>=2.23.0->pandas_profiling) (3.0.4)\n",
      "Requirement already satisfied: urllib3!=1.25.0,!=1.25.1,<1.26,>=1.21.1 in c:\\programdata\\anaconda3\\lib\\site-packages (from requests>=2.23.0->pandas_profiling) (1.25.9)\n",
      "Requirement already satisfied: networkx>=2.4 in c:\\programdata\\anaconda3\\lib\\site-packages (from visions[type_image_path]==0.5.0->pandas_profiling) (2.4)\n",
      "Requirement already satisfied: Pillow; extra == \"type_image_path\" in c:\\programdata\\anaconda3\\lib\\site-packages (from visions[type_image_path]==0.5.0->pandas_profiling) (7.2.0)\n",
      "Requirement already satisfied: imagehash; extra == \"type_image_path\" in c:\\programdata\\anaconda3\\lib\\site-packages (from visions[type_image_path]==0.5.0->pandas_profiling) (4.1.0)\n",
      "Requirement already satisfied: pyparsing!=2.0.4,!=2.1.2,!=2.1.6,>=2.0.1 in c:\\programdata\\anaconda3\\lib\\site-packages (from matplotlib>=3.2.0->pandas_profiling) (2.4.7)\n",
      "Requirement already satisfied: cycler>=0.10 in c:\\programdata\\anaconda3\\lib\\site-packages (from matplotlib>=3.2.0->pandas_profiling) (0.10.0)\n",
      "Requirement already satisfied: python-dateutil>=2.1 in c:\\programdata\\anaconda3\\lib\\site-packages (from matplotlib>=3.2.0->pandas_profiling) (2.8.1)\n",
      "Requirement already satisfied: kiwisolver>=1.0.1 in c:\\programdata\\anaconda3\\lib\\site-packages (from matplotlib>=3.2.0->pandas_profiling) (1.2.0)\n",
      "Requirement already satisfied: MarkupSafe>=0.23 in c:\\programdata\\anaconda3\\lib\\site-packages (from jinja2>=2.11.1->pandas_profiling) (1.1.1)\n",
      "Requirement already satisfied: pytz>=2017.2 in c:\\programdata\\anaconda3\\lib\\site-packages (from pandas!=1.0.0,!=1.0.1,!=1.0.2,!=1.1.0,>=0.25.3->pandas_profiling) (2020.1)\n",
      "Requirement already satisfied: llvmlite<0.34,>=0.33.0.dev0 in c:\\programdata\\anaconda3\\lib\\site-packages (from numba>=0.38.1->phik>=0.9.10->pandas_profiling) (0.33.0+1.g022ab0f)\n",
      "Requirement already satisfied: setuptools in c:\\programdata\\anaconda3\\lib\\site-packages (from numba>=0.38.1->phik>=0.9.10->pandas_profiling) (49.2.0.post20200714)\n",
      "Requirement already satisfied: jupyter-core in c:\\programdata\\anaconda3\\lib\\site-packages (from nbformat>=4.2.0->ipywidgets>=7.5.1->pandas_profiling) (4.6.3)\n",
      "Requirement already satisfied: jsonschema!=2.5.0,>=2.4 in c:\\programdata\\anaconda3\\lib\\site-packages (from nbformat>=4.2.0->ipywidgets>=7.5.1->pandas_profiling) (3.2.0)\n",
      "Requirement already satisfied: ipython-genutils in c:\\programdata\\anaconda3\\lib\\site-packages (from nbformat>=4.2.0->ipywidgets>=7.5.1->pandas_profiling) (0.2.0)\n",
      "Requirement already satisfied: decorator in c:\\programdata\\anaconda3\\lib\\site-packages (from traitlets>=4.3.1->ipywidgets>=7.5.1->pandas_profiling) (4.4.2)\n",
      "Requirement already satisfied: six in c:\\programdata\\anaconda3\\lib\\site-packages (from traitlets>=4.3.1->ipywidgets>=7.5.1->pandas_profiling) (1.15.0)\n",
      "Requirement already satisfied: prompt-toolkit!=3.0.0,!=3.0.1,<3.1.0,>=2.0.0 in c:\\programdata\\anaconda3\\lib\\site-packages (from ipython>=4.0.0; python_version >= \"3.3\"->ipywidgets>=7.5.1->pandas_profiling) (3.0.5)\n",
      "Requirement already satisfied: pygments in c:\\programdata\\anaconda3\\lib\\site-packages (from ipython>=4.0.0; python_version >= \"3.3\"->ipywidgets>=7.5.1->pandas_profiling) (2.6.1)\n",
      "Requirement already satisfied: backcall in c:\\programdata\\anaconda3\\lib\\site-packages (from ipython>=4.0.0; python_version >= \"3.3\"->ipywidgets>=7.5.1->pandas_profiling) (0.2.0)\n",
      "Requirement already satisfied: colorama; sys_platform == \"win32\" in c:\\programdata\\anaconda3\\lib\\site-packages (from ipython>=4.0.0; python_version >= \"3.3\"->ipywidgets>=7.5.1->pandas_profiling) (0.4.3)\n",
      "Requirement already satisfied: jedi>=0.10 in c:\\programdata\\anaconda3\\lib\\site-packages (from ipython>=4.0.0; python_version >= \"3.3\"->ipywidgets>=7.5.1->pandas_profiling) (0.17.1)\n",
      "Requirement already satisfied: pickleshare in c:\\programdata\\anaconda3\\lib\\site-packages (from ipython>=4.0.0; python_version >= \"3.3\"->ipywidgets>=7.5.1->pandas_profiling) (0.7.5)\n",
      "Requirement already satisfied: notebook>=4.4.1 in c:\\programdata\\anaconda3\\lib\\site-packages (from widgetsnbextension~=3.5.0->ipywidgets>=7.5.1->pandas_profiling) (6.0.3)\n",
      "Requirement already satisfied: jupyter-client in c:\\programdata\\anaconda3\\lib\\site-packages (from ipykernel>=4.5.1->ipywidgets>=7.5.1->pandas_profiling) (6.1.6)\n",
      "Requirement already satisfied: tornado>=4.2 in c:\\programdata\\anaconda3\\lib\\site-packages (from ipykernel>=4.5.1->ipywidgets>=7.5.1->pandas_profiling) (6.0.4)\n",
      "Requirement already satisfied: PyWavelets in c:\\programdata\\anaconda3\\lib\\site-packages (from imagehash; extra == \"type_image_path\"->visions[type_image_path]==0.5.0->pandas_profiling) (1.1.1)\n",
      "Requirement already satisfied: pywin32>=1.0; sys_platform == \"win32\" in c:\\programdata\\anaconda3\\lib\\site-packages (from jupyter-core->nbformat>=4.2.0->ipywidgets>=7.5.1->pandas_profiling) (227)\n",
      "Requirement already satisfied: pyrsistent>=0.14.0 in c:\\programdata\\anaconda3\\lib\\site-packages (from jsonschema!=2.5.0,>=2.4->nbformat>=4.2.0->ipywidgets>=7.5.1->pandas_profiling) (0.16.0)\n",
      "Requirement already satisfied: wcwidth in c:\\programdata\\anaconda3\\lib\\site-packages (from prompt-toolkit!=3.0.0,!=3.0.1,<3.1.0,>=2.0.0->ipython>=4.0.0; python_version >= \"3.3\"->ipywidgets>=7.5.1->pandas_profiling) (0.2.5)\n",
      "Requirement already satisfied: parso<0.8.0,>=0.7.0 in c:\\programdata\\anaconda3\\lib\\site-packages (from jedi>=0.10->ipython>=4.0.0; python_version >= \"3.3\"->ipywidgets>=7.5.1->pandas_profiling) (0.7.0)\n",
      "Requirement already satisfied: pyzmq>=17 in c:\\programdata\\anaconda3\\lib\\site-packages (from notebook>=4.4.1->widgetsnbextension~=3.5.0->ipywidgets>=7.5.1->pandas_profiling) (19.0.1)\n",
      "Requirement already satisfied: nbconvert in c:\\programdata\\anaconda3\\lib\\site-packages (from notebook>=4.4.1->widgetsnbextension~=3.5.0->ipywidgets>=7.5.1->pandas_profiling) (5.6.1)\n",
      "Requirement already satisfied: terminado>=0.8.1 in c:\\programdata\\anaconda3\\lib\\site-packages (from notebook>=4.4.1->widgetsnbextension~=3.5.0->ipywidgets>=7.5.1->pandas_profiling) (0.8.3)\n",
      "Requirement already satisfied: Send2Trash in c:\\programdata\\anaconda3\\lib\\site-packages (from notebook>=4.4.1->widgetsnbextension~=3.5.0->ipywidgets>=7.5.1->pandas_profiling) (1.5.0)\n",
      "Requirement already satisfied: prometheus-client in c:\\programdata\\anaconda3\\lib\\site-packages (from notebook>=4.4.1->widgetsnbextension~=3.5.0->ipywidgets>=7.5.1->pandas_profiling) (0.8.0)\n",
      "Requirement already satisfied: mistune<2,>=0.8.1 in c:\\programdata\\anaconda3\\lib\\site-packages (from nbconvert->notebook>=4.4.1->widgetsnbextension~=3.5.0->ipywidgets>=7.5.1->pandas_profiling) (0.8.4)\n",
      "Requirement already satisfied: defusedxml in c:\\programdata\\anaconda3\\lib\\site-packages (from nbconvert->notebook>=4.4.1->widgetsnbextension~=3.5.0->ipywidgets>=7.5.1->pandas_profiling) (0.6.0)\n",
      "Requirement already satisfied: entrypoints>=0.2.2 in c:\\programdata\\anaconda3\\lib\\site-packages (from nbconvert->notebook>=4.4.1->widgetsnbextension~=3.5.0->ipywidgets>=7.5.1->pandas_profiling) (0.3)\n",
      "Requirement already satisfied: bleach in c:\\programdata\\anaconda3\\lib\\site-packages (from nbconvert->notebook>=4.4.1->widgetsnbextension~=3.5.0->ipywidgets>=7.5.1->pandas_profiling) (3.1.5)\n",
      "Requirement already satisfied: testpath in c:\\programdata\\anaconda3\\lib\\site-packages (from nbconvert->notebook>=4.4.1->widgetsnbextension~=3.5.0->ipywidgets>=7.5.1->pandas_profiling) (0.4.4)\n",
      "Requirement already satisfied: pandocfilters>=1.4.1 in c:\\programdata\\anaconda3\\lib\\site-packages (from nbconvert->notebook>=4.4.1->widgetsnbextension~=3.5.0->ipywidgets>=7.5.1->pandas_profiling) (1.4.2)\n",
      "Requirement already satisfied: packaging in c:\\programdata\\anaconda3\\lib\\site-packages (from bleach->nbconvert->notebook>=4.4.1->widgetsnbextension~=3.5.0->ipywidgets>=7.5.1->pandas_profiling) (20.4)\n",
      "Requirement already satisfied: webencodings in c:\\programdata\\anaconda3\\lib\\site-packages (from bleach->nbconvert->notebook>=4.4.1->widgetsnbextension~=3.5.0->ipywidgets>=7.5.1->pandas_profiling) (0.5.1)\n"
     ]
    }
   ],
   "source": [
    "!pip install sweetviz\n",
    "!pip install dask\n",
    "!pip install scikit-learn\n",
    "!pip install pandas_profiling"
   ]
  },
  {
   "cell_type": "code",
   "execution_count": 2,
   "metadata": {},
   "outputs": [],
   "source": [
    "import numpy as np \n",
    "import pandas as pd \n",
    "import matplotlib.pyplot as plt\n",
    "import plotly.graph_objects as go\n",
    "import plotly.express as px\n",
    "pd.set_option('display.max_rows', None)\n",
    "from plotly.subplots import make_subplots\n",
    "import seaborn as sns\n",
    "from datetime import datetime\n",
    "import sweetviz as sv\n",
    "import pandas_profiling\n",
    "#import machine learning packages\n",
    "from sklearn.model_selection import train_test_split\n",
    "from sklearn.preprocessing import PolynomialFeatures\n",
    "from sklearn.linear_model import LinearRegression\n",
    "from sklearn.ensemble import RandomForestClassifier\n",
    "from sklearn.metrics import accuracy_score, confusion_matrix,precision_score\n",
    "from sklearn.model_selection import RandomizedSearchCV\n",
    "from sklearn import metrics"
   ]
  },
  {
   "cell_type": "markdown",
   "metadata": {},
   "source": [
    "# Load data stored in a location\n",
    "\n",
    "Download data from https://api.covid19india.org/csv/latest/state_wise_daily.csv and store in your computer.\n",
    "\n",
    "__Update the location in cell below according to the file location and file name__"
   ]
  },
  {
   "cell_type": "code",
   "execution_count": 3,
   "metadata": {},
   "outputs": [],
   "source": [
    "india = pd.read_csv('D:\\Youtube channel_Intercog\\COVID_19_Random_forest\\state_wise_daily_fromCovid19website.csv')"
   ]
  },
  {
   "cell_type": "markdown",
   "metadata": {},
   "source": [
    "# Converting the data to a format ready for the machine learning steps"
   ]
  },
  {
   "cell_type": "code",
   "execution_count": 4,
   "metadata": {},
   "outputs": [],
   "source": [
    "india.columns = map(str.lower, india.columns)\n",
    "# convert all column heads to lower case letters"
   ]
  },
  {
   "cell_type": "code",
   "execution_count": 5,
   "metadata": {},
   "outputs": [
    {
     "data": {
      "text/plain": [
       "Index(['date', 'date_ymd', 'status', 'tt', 'an', 'ap', 'ar', 'as', 'br', 'ch',\n",
       "       'ct', 'dn', 'dd', 'dl', 'ga', 'gj', 'hr', 'hp', 'jk', 'jh', 'ka', 'kl',\n",
       "       'la', 'ld', 'mp', 'mh', 'mn', 'ml', 'mz', 'nl', 'or', 'py', 'pb', 'rj',\n",
       "       'sk', 'tn', 'tg', 'tr', 'up', 'ut', 'wb', 'un'],\n",
       "      dtype='object')"
      ]
     },
     "execution_count": 5,
     "metadata": {},
     "output_type": "execute_result"
    }
   ],
   "source": [
    "india.columns"
   ]
  },
  {
   "cell_type": "markdown",
   "metadata": {},
   "source": [
    "# drop columns to select a state of your interest.\n",
    "\n",
    "In this note book Kerala is selcted 'kl' is the column name corresponding to kerala. If you wish to try for other state, drop columns except your state of interest."
   ]
  },
  {
   "cell_type": "code",
   "execution_count": 6,
   "metadata": {},
   "outputs": [
    {
     "data": {
      "text/html": [
       "<div>\n",
       "<style scoped>\n",
       "    .dataframe tbody tr th:only-of-type {\n",
       "        vertical-align: middle;\n",
       "    }\n",
       "\n",
       "    .dataframe tbody tr th {\n",
       "        vertical-align: top;\n",
       "    }\n",
       "\n",
       "    .dataframe thead th {\n",
       "        text-align: right;\n",
       "    }\n",
       "</style>\n",
       "<table border=\"1\" class=\"dataframe\">\n",
       "  <thead>\n",
       "    <tr style=\"text-align: right;\">\n",
       "      <th></th>\n",
       "      <th>date_ymd</th>\n",
       "      <th>status</th>\n",
       "      <th>kl</th>\n",
       "    </tr>\n",
       "  </thead>\n",
       "  <tbody>\n",
       "    <tr>\n",
       "      <th>0</th>\n",
       "      <td>2020-03-14</td>\n",
       "      <td>Confirmed</td>\n",
       "      <td>19</td>\n",
       "    </tr>\n",
       "    <tr>\n",
       "      <th>1</th>\n",
       "      <td>2020-03-14</td>\n",
       "      <td>Recovered</td>\n",
       "      <td>3</td>\n",
       "    </tr>\n",
       "    <tr>\n",
       "      <th>2</th>\n",
       "      <td>2020-03-14</td>\n",
       "      <td>Deceased</td>\n",
       "      <td>0</td>\n",
       "    </tr>\n",
       "    <tr>\n",
       "      <th>3</th>\n",
       "      <td>2020-03-15</td>\n",
       "      <td>Confirmed</td>\n",
       "      <td>5</td>\n",
       "    </tr>\n",
       "    <tr>\n",
       "      <th>4</th>\n",
       "      <td>2020-03-15</td>\n",
       "      <td>Recovered</td>\n",
       "      <td>0</td>\n",
       "    </tr>\n",
       "  </tbody>\n",
       "</table>\n",
       "</div>"
      ],
      "text/plain": [
       "     date_ymd     status  kl\n",
       "0  2020-03-14  Confirmed  19\n",
       "1  2020-03-14  Recovered   3\n",
       "2  2020-03-14   Deceased   0\n",
       "3  2020-03-15  Confirmed   5\n",
       "4  2020-03-15  Recovered   0"
      ]
     },
     "execution_count": 6,
     "metadata": {},
     "output_type": "execute_result"
    }
   ],
   "source": [
    "dropopcolumn=['date', 'tt', 'an', 'ap', 'ar', 'as', 'br', 'ch', 'ct', 'dn', 'dd', 'dl', 'ga', 'gj', 'hr', 'hp', 'jk', 'jh', 'ka', 'la', 'ld', 'mp', 'mh', 'mn', 'ml', 'mz', 'nl', 'or', 'py', 'pb', 'rj', 'sk', 'tn', 'tg', 'tr', 'up', 'ut', 'wb', 'un']\n",
    "india.drop(dropopcolumn,axis=1,inplace=True) #remove duplicate date format\n",
    "india.head()"
   ]
  },
  {
   "cell_type": "code",
   "execution_count": 7,
   "metadata": {},
   "outputs": [
    {
     "data": {
      "text/plain": [
       "735"
      ]
     },
     "execution_count": 7,
     "metadata": {},
     "output_type": "execute_result"
    }
   ],
   "source": [
    "len(india) # as the data base was downloaded on 13 th Noveber 2020, you may get a different length due to additions after this date"
   ]
  },
  {
   "cell_type": "markdown",
   "metadata": {},
   "source": [
    "# Arrange columns in the order of date, confirmed, deceased and recovered. "
   ]
  },
  {
   "cell_type": "code",
   "execution_count": 8,
   "metadata": {},
   "outputs": [
    {
     "data": {
      "text/html": [
       "<div>\n",
       "<style scoped>\n",
       "    .dataframe tbody tr th:only-of-type {\n",
       "        vertical-align: middle;\n",
       "    }\n",
       "\n",
       "    .dataframe tbody tr th {\n",
       "        vertical-align: top;\n",
       "    }\n",
       "\n",
       "    .dataframe thead th {\n",
       "        text-align: right;\n",
       "    }\n",
       "</style>\n",
       "<table border=\"1\" class=\"dataframe\">\n",
       "  <thead>\n",
       "    <tr style=\"text-align: right;\">\n",
       "      <th></th>\n",
       "      <th>date_ymd</th>\n",
       "      <th>Confirmed</th>\n",
       "      <th>Deceased</th>\n",
       "      <th>Recovered</th>\n",
       "    </tr>\n",
       "  </thead>\n",
       "  <tbody>\n",
       "    <tr>\n",
       "      <th>0</th>\n",
       "      <td>2020-03-14</td>\n",
       "      <td>19</td>\n",
       "      <td>0</td>\n",
       "      <td>3</td>\n",
       "    </tr>\n",
       "    <tr>\n",
       "      <th>1</th>\n",
       "      <td>2020-03-15</td>\n",
       "      <td>5</td>\n",
       "      <td>0</td>\n",
       "      <td>0</td>\n",
       "    </tr>\n",
       "    <tr>\n",
       "      <th>2</th>\n",
       "      <td>2020-03-16</td>\n",
       "      <td>3</td>\n",
       "      <td>0</td>\n",
       "      <td>0</td>\n",
       "    </tr>\n",
       "    <tr>\n",
       "      <th>3</th>\n",
       "      <td>2020-03-17</td>\n",
       "      <td>0</td>\n",
       "      <td>0</td>\n",
       "      <td>0</td>\n",
       "    </tr>\n",
       "    <tr>\n",
       "      <th>4</th>\n",
       "      <td>2020-03-18</td>\n",
       "      <td>0</td>\n",
       "      <td>0</td>\n",
       "      <td>0</td>\n",
       "    </tr>\n",
       "  </tbody>\n",
       "</table>\n",
       "</div>"
      ],
      "text/plain": [
       "     date_ymd  Confirmed  Deceased  Recovered\n",
       "0  2020-03-14         19         0          3\n",
       "1  2020-03-15          5         0          0\n",
       "2  2020-03-16          3         0          0\n",
       "3  2020-03-17          0         0          0\n",
       "4  2020-03-18          0         0          0"
      ]
     },
     "execution_count": 8,
     "metadata": {},
     "output_type": "execute_result"
    }
   ],
   "source": [
    "kerala=india.pivot(index='date_ymd',columns='status',values='kl').sort_values('date_ymd')\n",
    "#Convert pivoted table to normal dataframe\n",
    "#kerala.columns = kerala.columns.droplevel(0) #remove amount\n",
    "kerala.columns.name = None               #remove categories\n",
    "kerala = kerala.reset_index()                #index to columns\n",
    "kerala.head()"
   ]
  },
  {
   "cell_type": "code",
   "execution_count": 9,
   "metadata": {},
   "outputs": [
    {
     "data": {
      "text/html": [
       "<div>\n",
       "<style scoped>\n",
       "    .dataframe tbody tr th:only-of-type {\n",
       "        vertical-align: middle;\n",
       "    }\n",
       "\n",
       "    .dataframe tbody tr th {\n",
       "        vertical-align: top;\n",
       "    }\n",
       "\n",
       "    .dataframe thead th {\n",
       "        text-align: right;\n",
       "    }\n",
       "</style>\n",
       "<table border=\"1\" class=\"dataframe\">\n",
       "  <thead>\n",
       "    <tr style=\"text-align: right;\">\n",
       "      <th></th>\n",
       "      <th>date_ymd</th>\n",
       "      <th>Confirmed</th>\n",
       "      <th>Deceased</th>\n",
       "      <th>Recovered</th>\n",
       "      <th>date_index</th>\n",
       "    </tr>\n",
       "  </thead>\n",
       "  <tbody>\n",
       "    <tr>\n",
       "      <th>0</th>\n",
       "      <td>2020-03-14</td>\n",
       "      <td>19</td>\n",
       "      <td>0</td>\n",
       "      <td>3</td>\n",
       "      <td>0</td>\n",
       "    </tr>\n",
       "    <tr>\n",
       "      <th>1</th>\n",
       "      <td>2020-03-15</td>\n",
       "      <td>5</td>\n",
       "      <td>0</td>\n",
       "      <td>0</td>\n",
       "      <td>1</td>\n",
       "    </tr>\n",
       "    <tr>\n",
       "      <th>2</th>\n",
       "      <td>2020-03-16</td>\n",
       "      <td>3</td>\n",
       "      <td>0</td>\n",
       "      <td>0</td>\n",
       "      <td>2</td>\n",
       "    </tr>\n",
       "    <tr>\n",
       "      <th>3</th>\n",
       "      <td>2020-03-17</td>\n",
       "      <td>0</td>\n",
       "      <td>0</td>\n",
       "      <td>0</td>\n",
       "      <td>3</td>\n",
       "    </tr>\n",
       "    <tr>\n",
       "      <th>4</th>\n",
       "      <td>2020-03-18</td>\n",
       "      <td>0</td>\n",
       "      <td>0</td>\n",
       "      <td>0</td>\n",
       "      <td>4</td>\n",
       "    </tr>\n",
       "  </tbody>\n",
       "</table>\n",
       "</div>"
      ],
      "text/plain": [
       "     date_ymd  Confirmed  Deceased  Recovered  date_index\n",
       "0  2020-03-14         19         0          3           0\n",
       "1  2020-03-15          5         0          0           1\n",
       "2  2020-03-16          3         0          0           2\n",
       "3  2020-03-17          0         0          0           3\n",
       "4  2020-03-18          0         0          0           4"
      ]
     },
     "execution_count": 9,
     "metadata": {},
     "output_type": "execute_result"
    }
   ],
   "source": [
    "kerala['date_index'] = np.arange(len(kerala))\n",
    "kerala.head()"
   ]
  },
  {
   "cell_type": "markdown",
   "metadata": {},
   "source": [
    "# Generate profile reports for a quick review of the  data set"
   ]
  },
  {
   "cell_type": "code",
   "execution_count": 10,
   "metadata": {},
   "outputs": [
    {
     "data": {
      "application/vnd.jupyter.widget-view+json": {
       "model_id": "1a7bfda9544142d79f670ffa9fe7f61d",
       "version_major": 2,
       "version_minor": 0
      },
      "text/plain": [
       "HBox(children=(FloatProgress(value=0.0, layout=Layout(flex='2'), max=6.0), HTML(value='')), layout=Layout(disp…"
      ]
     },
     "metadata": {},
     "output_type": "display_data"
    },
    {
     "name": "stdout",
     "output_type": "stream",
     "text": [
      "\n"
     ]
    },
    {
     "data": {
      "application/vnd.jupyter.widget-view+json": {
       "model_id": "ad4bb955e2704bd393feed35116d3766",
       "version_major": 2,
       "version_minor": 0
      },
      "text/plain": [
       "HBox(children=(FloatProgress(value=0.0, layout=Layout(flex='2'), max=5.0), HTML(value='')), layout=Layout(disp…"
      ]
     },
     "metadata": {},
     "output_type": "display_data"
    },
    {
     "name": "stdout",
     "output_type": "stream",
     "text": [
      "\n"
     ]
    },
    {
     "data": {
      "application/vnd.jupyter.widget-view+json": {
       "model_id": "a0040b06c5d243fdbfa695817d3ea660",
       "version_major": 2,
       "version_minor": 0
      },
      "text/plain": [
       "HBox(children=(FloatProgress(value=0.0, layout=Layout(flex='2'), max=1.0), HTML(value='')), layout=Layout(disp…"
      ]
     },
     "metadata": {},
     "output_type": "display_data"
    },
    {
     "name": "stdout",
     "output_type": "stream",
     "text": [
      "\n",
      "Report SWEETVIZ_REPORT.html was generated! NOTEBOOK/COLAB USERS: the web browser MAY not pop up, regardless, the report IS saved in your notebook/colab files.\n"
     ]
    }
   ],
   "source": [
    "my_report1 = sv.analyze(kerala)# command to generate profile report\n",
    "my_report1.show_html() #this will show report "
   ]
  },
  {
   "cell_type": "code",
   "execution_count": 11,
   "metadata": {},
   "outputs": [
    {
     "data": {
      "application/vnd.jupyter.widget-view+json": {
       "model_id": "0475eb1d54024aef96f4103cba608581",
       "version_major": 2,
       "version_minor": 0
      },
      "text/plain": [
       "HBox(children=(FloatProgress(value=0.0, description='Summarize dataset', max=17.0, style=ProgressStyle(descrip…"
      ]
     },
     "metadata": {},
     "output_type": "display_data"
    },
    {
     "name": "stdout",
     "output_type": "stream",
     "text": [
      "\n"
     ]
    },
    {
     "data": {
      "application/vnd.jupyter.widget-view+json": {
       "model_id": "d65e99a7971643f1bbd741997aed03bc",
       "version_major": 2,
       "version_minor": 0
      },
      "text/plain": [
       "HBox(children=(FloatProgress(value=0.0, description='Generate report structure', max=1.0, style=ProgressStyle(…"
      ]
     },
     "metadata": {},
     "output_type": "display_data"
    },
    {
     "name": "stdout",
     "output_type": "stream",
     "text": [
      "\n"
     ]
    },
    {
     "data": {
      "application/vnd.jupyter.widget-view+json": {
       "model_id": "d772297b7d71432ea336c03fe32ee80f",
       "version_major": 2,
       "version_minor": 0
      },
      "text/plain": [
       "HBox(children=(FloatProgress(value=0.0, description='Render HTML', max=1.0, style=ProgressStyle(description_wi…"
      ]
     },
     "metadata": {},
     "output_type": "display_data"
    },
    {
     "name": "stdout",
     "output_type": "stream",
     "text": [
      "\n"
     ]
    },
    {
     "data": {
      "application/vnd.jupyter.widget-view+json": {
       "model_id": "7861882fc1fd4898aa152e460e41c9c1",
       "version_major": 2,
       "version_minor": 0
      },
      "text/plain": [
       "HBox(children=(FloatProgress(value=0.0, description='Export report to file', max=1.0, style=ProgressStyle(desc…"
      ]
     },
     "metadata": {},
     "output_type": "display_data"
    },
    {
     "name": "stdout",
     "output_type": "stream",
     "text": [
      "\n"
     ]
    }
   ],
   "source": [
    "profile = pandas_profiling.ProfileReport(india)\n",
    "profile.to_file(\"india.html\") # generate profile report in pandas profiling and store in parent directory"
   ]
  },
  {
   "cell_type": "markdown",
   "metadata": {},
   "source": [
    "# Generate feature and target variables\n",
    "\n",
    "__In this note book Random forest method to predict number of deceased from the number of confirmed and recovered cases is done__ "
   ]
  },
  {
   "cell_type": "code",
   "execution_count": 12,
   "metadata": {},
   "outputs": [],
   "source": [
    "features = ['Confirmed','Recovered','date_index']\n",
    "target = ['Deceased']\n",
    "X = kerala[features] # generate feature vector as X\n",
    "y = kerala[target] # generate tagret vector as y"
   ]
  },
  {
   "cell_type": "code",
   "execution_count": 13,
   "metadata": {},
   "outputs": [
    {
     "data": {
      "text/plain": [
       "Text(0.5, 1.0, 'Correlation between features')"
      ]
     },
     "execution_count": 13,
     "metadata": {},
     "output_type": "execute_result"
    },
    {
     "data": {
      "image/png": "[encoded data removed]",
      "text/plain": [
       "<Figure size 1000x1000 with 2 Axes>"
      ]
     },
     "metadata": {},
     "output_type": "display_data"
    }
   ],
   "source": [
    "corr = kerala.corr()\n",
    "plt.figure(figsize=(10,10))\n",
    "sns.heatmap(corr, square = True, annot = True,vmin=-1, vmax=1) #  vmin=-1, vmax=1\n",
    "plt.title('Correlation between features')"
   ]
  },
  {
   "cell_type": "markdown",
   "metadata": {},
   "source": [
    "# Splitting of data to train and test vectors\n",
    "\n",
    "80% data used for training and 20% for tesing "
   ]
  },
  {
   "cell_type": "code",
   "execution_count": 14,
   "metadata": {},
   "outputs": [],
   "source": [
    "X_train, X_test, y_train, y_test = train_test_split(X, y, test_size=0.20, random_state=1)"
   ]
  },
  {
   "cell_type": "markdown",
   "metadata": {},
   "source": [
    "# Initialize random forest classifiers . Training and prediction on test samples."
   ]
  },
  {
   "cell_type": "code",
   "execution_count": 15,
   "metadata": {},
   "outputs": [
    {
     "name": "stderr",
     "output_type": "stream",
     "text": [
      "<ipython-input-15-fb82422aa930>:2: DataConversionWarning: A column-vector y was passed when a 1d array was expected. Please change the shape of y to (n_samples,), for example using ravel().\n",
      "  model_rf.fit(X_train, y_train)\n"
     ]
    },
    {
     "name": "stdout",
     "output_type": "stream",
     "text": [
      "predicted deceased with RF [ 0  0 23 25  0 20  0  1 28  0  1  1  1  0  7  9 14  0  0  1 23  0  2 11\n",
      "  2  0 25  1  0 25 25  0  0 20  0  2  0  0  0 27  2  0 12 20  0  1  0  0\n",
      "  0]\n"
     ]
    }
   ],
   "source": [
    "model_rf = RandomForestClassifier(random_state = 0)\n",
    "model_rf.fit(X_train, y_train)\n",
    "y_pred_test_rf = model_rf.predict(X_test)\n",
    "print(\"predicted deceased with RF\",y_pred_test_rf)"
   ]
  },
  {
   "cell_type": "code",
   "execution_count": 16,
   "metadata": {},
   "outputs": [
    {
     "name": "stdout",
     "output_type": "stream",
     "text": [
      "predicted deceased with RF with parameter specified [ 0  0 23 25  0 20  0  1 28  0  1  1  1  0  7  9 14  0  0  1 23  0  2 11\n",
      "  2  0 25  1  0 25 25  0  0 20  0  2  0  0  0 27  2  0 12 20  0  1  0  0\n",
      "  0]\n"
     ]
    },
    {
     "name": "stderr",
     "output_type": "stream",
     "text": [
      "<ipython-input-16-7c87409fd195>:6: DataConversionWarning: A column-vector y was passed when a 1d array was expected. Please change the shape of y to (n_samples,), for example using ravel().\n",
      "  model1_rf.fit(X_train, y_train)\n"
     ]
    }
   ],
   "source": [
    "model1_rf = RandomForestClassifier(random_state = 0,\n",
    "                                n_estimators = 15,\n",
    "                                min_samples_split = 2,\n",
    "                                min_samples_leaf = 1)\n",
    "\n",
    "model1_rf.fit(X_train, y_train)\n",
    "y_pred1_test_rf = model_rf.predict(X_test)\n",
    "print(\"predicted deceased with RF with parameter specified\",y_pred1_test_rf)"
   ]
  },
  {
   "cell_type": "markdown",
   "metadata": {},
   "source": [
    "# Hyperparameter tuning with Random Serch CV method"
   ]
  },
  {
   "cell_type": "code",
   "execution_count": 17,
   "metadata": {},
   "outputs": [],
   "source": [
    "# parameters for RandomSearchCV\n",
    "param_dist = {\"max_depth\": range(2,6),\n",
    "              \"min_samples_split\": range(6, 11),\n",
    "              \"min_samples_leaf\": range(1, 5),\n",
    "              \"bootstrap\": [True,False],\n",
    "              \"n_estimators\": [100, 400],\n",
    "              \"criterion\" : [\"gini\", \"entropy\"],\n",
    "              'max_features': ['sqrt', 'log2',5]\n",
    "             }\n",
    "# run randomized search\n",
    "n_iter_search = 100\n",
    "model_rf_tuned = RandomizedSearchCV(model_rf, param_distributions = param_dist,\n",
    "                                   n_iter = n_iter_search,\n",
    "                                   n_jobs = -1)"
   ]
  },
  {
   "cell_type": "code",
   "execution_count": 18,
   "metadata": {},
   "outputs": [
    {
     "name": "stderr",
     "output_type": "stream",
     "text": [
      "C:\\ProgramData\\Anaconda3\\lib\\site-packages\\sklearn\\model_selection\\_split.py:670: UserWarning: The least populated class in y has only 1 members, which is less than n_splits=5.\n",
      "  warnings.warn((\"The least populated class in y has only %d\"\n",
      "C:\\ProgramData\\Anaconda3\\lib\\site-packages\\sklearn\\model_selection\\_search.py:765: DataConversionWarning: A column-vector y was passed when a 1d array was expected. Please change the shape of y to (n_samples,), for example using ravel().\n",
      "  self.best_estimator_.fit(X, y, **fit_params)\n"
     ]
    },
    {
     "data": {
      "text/plain": [
       "RandomizedSearchCV(estimator=RandomForestClassifier(random_state=0), n_iter=100,\n",
       "                   n_jobs=-1,\n",
       "                   param_distributions={'bootstrap': [True, False],\n",
       "                                        'criterion': ['gini', 'entropy'],\n",
       "                                        'max_depth': range(2, 6),\n",
       "                                        'max_features': ['sqrt', 'log2', 5],\n",
       "                                        'min_samples_leaf': range(1, 5),\n",
       "                                        'min_samples_split': range(6, 11),\n",
       "                                        'n_estimators': [100, 400]})"
      ]
     },
     "execution_count": 18,
     "metadata": {},
     "output_type": "execute_result"
    }
   ],
   "source": [
    "model_rf_tuned.fit(X_train, y_train)"
   ]
  },
  {
   "cell_type": "code",
   "execution_count": 19,
   "metadata": {},
   "outputs": [],
   "source": [
    "y_pred_test_rf_tuned = model_rf_tuned.predict(X_test)\n",
    "y_pred_train_rf_tuned = model_rf_tuned.predict(X_train)"
   ]
  },
  {
   "cell_type": "code",
   "execution_count": 20,
   "metadata": {},
   "outputs": [
    {
     "data": {
      "text/plain": [
       "Int64Index([ 67, 244, 207, 221,  90, 219,  58, 127, 229,   4,  78,  85,  95,\n",
       "            112, 173, 160, 182,  51,  27,  73, 220,  34, 117, 184, 119, 118,\n",
       "            241, 123,  38, 211, 239,  44,  62, 233, 102, 138,  39,  31,  18,\n",
       "            238, 120,  19, 186, 227,  33,  91,  35,  11,  29],\n",
       "           dtype='int64')"
      ]
     },
     "execution_count": 20,
     "metadata": {},
     "output_type": "execute_result"
    }
   ],
   "source": [
    "X_test.index\n"
   ]
  },
  {
   "cell_type": "code",
   "execution_count": 21,
   "metadata": {},
   "outputs": [
    {
     "data": {
      "text/plain": [
       "Int64Index([ 67, 244, 207, 221,  90, 219,  58, 127, 229,   4,  78,  85,  95,\n",
       "            112, 173, 160, 182,  51,  27,  73, 220,  34, 117, 184, 119, 118,\n",
       "            241, 123,  38, 211, 239,  44,  62, 233, 102, 138,  39,  31,  18,\n",
       "            238, 120,  19, 186, 227,  33,  91,  35,  11,  29],\n",
       "           dtype='int64')"
      ]
     },
     "execution_count": 21,
     "metadata": {},
     "output_type": "execute_result"
    }
   ],
   "source": [
    "y_test.index"
   ]
  },
  {
   "cell_type": "code",
   "execution_count": 22,
   "metadata": {},
   "outputs": [
    {
     "data": {
      "text/plain": [
       "<bound method NDFrame.head of      Deceased\n",
       "67          0\n",
       "244         0\n",
       "207        22\n",
       "221        26\n",
       "90          1\n",
       "219        21\n",
       "58          0\n",
       "127         2\n",
       "229        26\n",
       "4           0\n",
       "78          0\n",
       "85          0\n",
       "95          0\n",
       "112         0\n",
       "173        10\n",
       "160        12\n",
       "182        15\n",
       "51          0\n",
       "27          0\n",
       "73          1\n",
       "220        24\n",
       "34          0\n",
       "117         0\n",
       "184        15\n",
       "119         2\n",
       "118         0\n",
       "241        28\n",
       "123         1\n",
       "38          0\n",
       "211        25\n",
       "239        24\n",
       "44          0\n",
       "62          0\n",
       "233        21\n",
       "102         0\n",
       "138         2\n",
       "39          0\n",
       "31          0\n",
       "18          0\n",
       "238        28\n",
       "120         2\n",
       "19          0\n",
       "186        14\n",
       "227        24\n",
       "33          0\n",
       "91          0\n",
       "35          0\n",
       "11          0\n",
       "29          0>"
      ]
     },
     "execution_count": 22,
     "metadata": {},
     "output_type": "execute_result"
    }
   ],
   "source": [
    "y_test.head"
   ]
  },
  {
   "cell_type": "markdown",
   "metadata": {},
   "source": [
    "# Plotting of results and comparison of results obtained with different RF approaches"
   ]
  },
  {
   "cell_type": "code",
   "execution_count": 23,
   "metadata": {},
   "outputs": [
    {
     "data": {
      "text/html": [
       "<div>\n",
       "<style scoped>\n",
       "    .dataframe tbody tr th:only-of-type {\n",
       "        vertical-align: middle;\n",
       "    }\n",
       "\n",
       "    .dataframe tbody tr th {\n",
       "        vertical-align: top;\n",
       "    }\n",
       "\n",
       "    .dataframe thead th {\n",
       "        text-align: right;\n",
       "    }\n",
       "</style>\n",
       "<table border=\"1\" class=\"dataframe\">\n",
       "  <thead>\n",
       "    <tr style=\"text-align: right;\">\n",
       "      <th></th>\n",
       "      <th>Confirmed</th>\n",
       "      <th>Recovered</th>\n",
       "      <th>date_index</th>\n",
       "      <th>predicted_y_rf_tuned</th>\n",
       "      <th>predicted_y_rf</th>\n",
       "      <th>Deceased</th>\n",
       "    </tr>\n",
       "  </thead>\n",
       "  <tbody>\n",
       "    <tr>\n",
       "      <th>67</th>\n",
       "      <td>24</td>\n",
       "      <td>5</td>\n",
       "      <td>67</td>\n",
       "      <td>0</td>\n",
       "      <td>0</td>\n",
       "      <td>0</td>\n",
       "    </tr>\n",
       "    <tr>\n",
       "      <th>244</th>\n",
       "      <td>0</td>\n",
       "      <td>0</td>\n",
       "      <td>244</td>\n",
       "      <td>0</td>\n",
       "      <td>0</td>\n",
       "      <td>0</td>\n",
       "    </tr>\n",
       "    <tr>\n",
       "      <th>207</th>\n",
       "      <td>10606</td>\n",
       "      <td>6161</td>\n",
       "      <td>207</td>\n",
       "      <td>23</td>\n",
       "      <td>23</td>\n",
       "      <td>22</td>\n",
       "    </tr>\n",
       "    <tr>\n",
       "      <th>221</th>\n",
       "      <td>8369</td>\n",
       "      <td>6839</td>\n",
       "      <td>221</td>\n",
       "      <td>23</td>\n",
       "      <td>25</td>\n",
       "      <td>26</td>\n",
       "    </tr>\n",
       "    <tr>\n",
       "      <th>90</th>\n",
       "      <td>78</td>\n",
       "      <td>32</td>\n",
       "      <td>90</td>\n",
       "      <td>1</td>\n",
       "      <td>0</td>\n",
       "      <td>1</td>\n",
       "    </tr>\n",
       "  </tbody>\n",
       "</table>\n",
       "</div>"
      ],
      "text/plain": [
       "     Confirmed  Recovered  date_index  predicted_y_rf_tuned  predicted_y_rf  \\\n",
       "67          24          5          67                     0               0   \n",
       "244          0          0         244                     0               0   \n",
       "207      10606       6161         207                    23              23   \n",
       "221       8369       6839         221                    23              25   \n",
       "90          78         32          90                     1               0   \n",
       "\n",
       "     Deceased  \n",
       "67          0  \n",
       "244         0  \n",
       "207        22  \n",
       "221        26  \n",
       "90          1  "
      ]
     },
     "execution_count": 23,
     "metadata": {},
     "output_type": "execute_result"
    }
   ],
   "source": [
    "# dataframe generation with tesing samples, predicted results(prediction of deceased number) with each method and actual value of deceased\n",
    "resultx=X_test\n",
    "resultx.reset_index(drop=True)\n",
    "resultx=resultx.assign(predicted_y_rf_tuned=y_pred_test_rf_tuned)\n",
    "resultx=resultx.assign(predicted_y_rf=y_pred_test_rf)\n",
    "y1=y_test\n",
    "result = resultx.merge(y1, left_index=True, right_index=True)\n",
    "y2=y_pred_test_rf\n",
    "result.head()"
   ]
  },
  {
   "cell_type": "code",
   "execution_count": 24,
   "metadata": {},
   "outputs": [
    {
     "name": "stdout",
     "output_type": "stream",
     "text": [
      "Accuracy score for test data using the model without parameter specification: 0.5510204081632653\n",
      "Accuracy score for test data using the model with parameter specification: 0.5510204081632653\n",
      "Precision score for normally tuned model for test data: 0.6530612244897959\n"
     ]
    },
    {
     "name": "stderr",
     "output_type": "stream",
     "text": [
      "C:\\ProgramData\\Anaconda3\\lib\\site-packages\\sklearn\\metrics\\_classification.py:1267: UserWarning: Note that pos_label (set to 'positive') is ignored when average != 'binary' (got 'weighted'). You may use labels=[pos_label] to specify a single positive class.\n",
      "  warnings.warn(\"Note that pos_label (set to %r) is ignored when \"\n",
      "C:\\ProgramData\\Anaconda3\\lib\\site-packages\\sklearn\\metrics\\_classification.py:1221: UndefinedMetricWarning: Precision is ill-defined and being set to 0.0 in labels with no predicted samples. Use `zero_division` parameter to control this behavior.\n",
      "  _warn_prf(average, modifier, msg_start, len(result))\n"
     ]
    }
   ],
   "source": [
    "# Precision score comarison\n",
    "precision_tuned = precision_score(y_test,y_pred_test_rf_tuned,pos_label='positive',average='weighted')\n",
    "print('Accuracy score for test data using the model without parameter specification:', accuracy_score(y_test,y_pred_test_rf))\n",
    "print('Accuracy score for test data using the model with parameter specification:', accuracy_score(y_test,y_pred1_test_rf))\n",
    "print('Precision score for normally tuned model for test data:', precision_tuned)\n"
   ]
  },
  {
   "cell_type": "code",
   "execution_count": 25,
   "metadata": {},
   "outputs": [
    {
     "name": "stdout",
     "output_type": "stream",
     "text": [
      "Mean Absolute Error Random Forest No tuning: 0.7551020408163265\n",
      "Mean Absolute Error Random Forest with tuning: 1.2040816326530612\n"
     ]
    }
   ],
   "source": [
    "# Evaluating the Algorithms Random Forest No tuning\n",
    "\n",
    "print('Mean Absolute Error Random Forest No tuning:', metrics.mean_absolute_error(y_test, y_pred1_test_rf)) \n",
    "print('Mean Absolute Error Random Forest with tuning:', metrics.mean_absolute_error(y_test, y_pred_test_rf_tuned))\n",
    " \n"
   ]
  },
  {
   "cell_type": "code",
   "execution_count": 26,
   "metadata": {},
   "outputs": [
    {
     "name": "stdout",
     "output_type": "stream",
     "text": [
      "Mean Squared Error Random Forest No tuning: 1.7346938775510203\n",
      "Mean Squared Error Random Forest with tuning: 5.816326530612245\n"
     ]
    }
   ],
   "source": [
    "# Evaluating the Algorithm Random Forest with tuning\n",
    "\n",
    "print('Mean Squared Error Random Forest No tuning:', metrics.mean_squared_error(y_test, y_pred1_test_rf))   \n",
    "print('Mean Squared Error Random Forest with tuning:', metrics.mean_squared_error(y_test, y_pred_test_rf_tuned))  \n"
   ]
  },
  {
   "cell_type": "code",
   "execution_count": 27,
   "metadata": {},
   "outputs": [
    {
     "name": "stdout",
     "output_type": "stream",
     "text": [
      "Root Mean Squared Error Random Forest No tuning: 1.3170777796132696\n",
      "Root Mean Squared Error Random Forest with tuning: 2.411706145162019\n"
     ]
    }
   ],
   "source": [
    "print('Root Mean Squared Error Random Forest No tuning:', np.sqrt(metrics.mean_squared_error(y_test, y_pred1_test_rf)))\n",
    "print('Root Mean Squared Error Random Forest with tuning:', np.sqrt(metrics.mean_squared_error(y_test, y_pred_test_rf_tuned)))"
   ]
  },
  {
   "cell_type": "code",
   "execution_count": 28,
   "metadata": {},
   "outputs": [],
   "source": [
    "val= [ ( accuracy_score(y_test,y_pred1_test_rf), metrics.mean_absolute_error(y_test, y_pred1_test_rf),metrics.mean_squared_error(y_test, y_pred1_test_rf),np.sqrt(metrics.mean_squared_error(y_test, y_pred1_test_rf))),\n",
    "        ( accuracy_score(y_test,y_pred_test_rf_tuned), metrics.mean_absolute_error(y_test, y_pred_test_rf_tuned),metrics.mean_squared_error(y_test, y_pred_test_rf_tuned),np.sqrt(metrics.mean_squared_error(y_test, y_pred_test_rf_tuned)))]\n",
    "        \n",
    "perfmeasure = pd.DataFrame(val, columns=[ 'Accuracy Score', 'Mean Absolute Error', 'Mean Squared Error', 'Root Mean Squared Error'])"
   ]
  },
  {
   "cell_type": "code",
   "execution_count": 29,
   "metadata": {},
   "outputs": [
    {
     "data": {
      "text/html": [
       "<div>\n",
       "<style scoped>\n",
       "    .dataframe tbody tr th:only-of-type {\n",
       "        vertical-align: middle;\n",
       "    }\n",
       "\n",
       "    .dataframe tbody tr th {\n",
       "        vertical-align: top;\n",
       "    }\n",
       "\n",
       "    .dataframe thead th {\n",
       "        text-align: right;\n",
       "    }\n",
       "</style>\n",
       "<table border=\"1\" class=\"dataframe\">\n",
       "  <thead>\n",
       "    <tr style=\"text-align: right;\">\n",
       "      <th></th>\n",
       "      <th>Accuracy Score</th>\n",
       "      <th>Mean Absolute Error</th>\n",
       "      <th>Mean Squared Error</th>\n",
       "      <th>Root Mean Squared Error</th>\n",
       "    </tr>\n",
       "  </thead>\n",
       "  <tbody>\n",
       "    <tr>\n",
       "      <th>0</th>\n",
       "      <td>0.551020</td>\n",
       "      <td>0.755102</td>\n",
       "      <td>1.734694</td>\n",
       "      <td>1.317078</td>\n",
       "    </tr>\n",
       "    <tr>\n",
       "      <th>1</th>\n",
       "      <td>0.571429</td>\n",
       "      <td>1.204082</td>\n",
       "      <td>5.816327</td>\n",
       "      <td>2.411706</td>\n",
       "    </tr>\n",
       "  </tbody>\n",
       "</table>\n",
       "</div>"
      ],
      "text/plain": [
       "   Accuracy Score  Mean Absolute Error  Mean Squared Error  \\\n",
       "0        0.551020             0.755102            1.734694   \n",
       "1        0.571429             1.204082            5.816327   \n",
       "\n",
       "   Root Mean Squared Error  \n",
       "0                 1.317078  \n",
       "1                 2.411706  "
      ]
     },
     "execution_count": 29,
     "metadata": {},
     "output_type": "execute_result"
    }
   ],
   "source": [
    "perfmeasure.head()"
   ]
  },
  {
   "cell_type": "markdown",
   "metadata": {},
   "source": [
    "# Visualization of Results"
   ]
  },
  {
   "cell_type": "code",
   "execution_count": 30,
   "metadata": {},
   "outputs": [
    {
     "data": {
      "text/plain": [
       "<matplotlib.legend.Legend at 0x257c6cc4fa0>"
      ]
     },
     "execution_count": 30,
     "metadata": {},
     "output_type": "execute_result"
    },
    {
     "data": {
      "image/png": "[encoded data removed]",
      "text/plain": [
       "<Figure size 1500x700 with 1 Axes>"
      ]
     },
     "metadata": {},
     "output_type": "display_data"
    }
   ],
   "source": [
    "# create plot\n",
    "fig, ax = plt.subplots(figsize=(15,7))\n",
    "index = np.arange(4)\n",
    "bar_width = 0.35\n",
    "opacity = 0.8\n",
    "figsize=(15, 7)\n",
    "rects1 = plt.bar(index, perfmeasure.iloc[0, : ], bar_width,\n",
    "alpha=opacity,\n",
    "color='b',\n",
    "label='Random Forest')\n",
    "\n",
    "rects2 = plt.bar(index + bar_width, perfmeasure.loc[1, : ], bar_width,\n",
    "alpha=opacity,\n",
    "color='g',\n",
    "label='Random Forest with tuning')\n",
    "\n",
    "plt.xlabel('Performance measure')\n",
    "plt.ylabel('Values')\n",
    "plt.title('Performance measure comparison of RF and Tuned RF on COVID 19 dataset')\n",
    "plt.xticks(index + bar_width, ('Accuracy Score', 'Mean Absolute Error', 'Mean Squared Error', 'Root Mean Squared Error'))\n",
    "plt.legend()\n",
    "\n"
   ]
  },
  {
   "cell_type": "code",
   "execution_count": 31,
   "metadata": {},
   "outputs": [
    {
     "data": {
      "text/plain": [
       "<matplotlib.legend.Legend at 0x257c75a0d90>"
      ]
     },
     "execution_count": 31,
     "metadata": {},
     "output_type": "execute_result"
    },
    {
     "data": {
      "image/png": "[encoded data removed]",
      "text/plain": [
       "<Figure size 1500x700 with 1 Axes>"
      ]
     },
     "metadata": {},
     "output_type": "display_data"
    }
   ],
   "source": [
    "result.groupby(['date_index'])['predicted_y_rf_tuned'].mean().plot(kind='line', figsize=(15, 7), color='green')\n",
    "result.groupby(['date_index'])['Deceased'].mean().plot(kind='line', figsize=(15, 7), color='red')\n",
    "result.groupby(['date_index'])['predicted_y_rf'].mean().plot(kind='line', figsize=(15, 7), color='blue')\n",
    "\n",
    "plt.ylabel('Number of Deceased person')\n",
    "plt.title('Variation of Predicted and Actual deceased')\n",
    "plt.legend(['Predicted with Random Forest Tuned method', 'Actual Deceased','Predicted with Random Forest No Tuning done'])"
   ]
  },
  {
   "cell_type": "markdown",
   "metadata": {},
   "source": [
    "# Conclusion\n",
    "Performance comparison of Random forest method for covid data shows that the method is not much promising, with high MSE and RMSE values. The accuracy score also is less than 60%. Models like time series modelling may be considered for further improvements."
   ]
  }
 ],
 "metadata": {
  "kernelspec": {
   "display_name": "Python 3",
   "language": "python",
   "name": "python3"
  },
  "language_info": {
   "codemirror_mode": {
    "name": "ipython",
    "version": 3
   },
   "file_extension": ".py",
   "mimetype": "text/x-python",
   "name": "python",
   "nbconvert_exporter": "python",
   "pygments_lexer": "ipython3",
   "version": "3.8.3"
  },
  "toc": {
   "base_numbering": 1,
   "nav_menu": {},
   "number_sections": true,
   "sideBar": true,
   "skip_h1_title": false,
   "title_cell": "Table of Contents",
   "title_sidebar": "Contents",
   "toc_cell": true,
   "toc_position": {},
   "toc_section_display": true,
   "toc_window_display": true
  }
 },
 "nbformat": 4,
 "nbformat_minor": 4
}
